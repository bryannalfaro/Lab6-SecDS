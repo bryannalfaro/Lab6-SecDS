{
 "cells": [
  {
   "attachments": {},
   "cell_type": "markdown",
   "metadata": {},
   "source": [
    "Raul Jimenez - 19017\n",
    "\n",
    "Bryann Alfaro - 19372\n",
    "\n",
    "Donaldo Garcia - 19683"
   ]
  },
  {
   "cell_type": "code",
   "execution_count": 1,
   "metadata": {},
   "outputs": [],
   "source": [
    "import os\n",
    "import pandas as pd\n",
    "from PIL import Image\n",
    "import numpy as np\n",
    "import matplotlib.pyplot as plt\n",
    "\n",
    "%matplotlib inline"
   ]
  },
  {
   "attachments": {},
   "cell_type": "markdown",
   "metadata": {},
   "source": [
    "## Preprocesamiento\n",
    "\n",
    "1. En el preprocesamiento debe mostrar cuantos ejemplares hay por cada familia. En base a\n",
    "estos datos debe determinar si considera pertinente prescindir de ejemplares que tengan\n",
    "pocas observaciones."
   ]
  },
  {
   "cell_type": "code",
   "execution_count": null,
   "metadata": {},
   "outputs": [],
   "source": [
    "# crea un dataframe a partir de las carpetas dentro de \"malimg_dataset\" y sus archivos .bytes\n",
    "df = pd.DataFrame(columns=['Family', 'Image'])\n",
    "fam_cat = {}\n",
    "for i, family in enumerate(os.listdir('malimg_dataset')):\n",
    "    fam_cat[i] = family\n",
    "    for image in os.listdir(f'malimg_dataset/{family}'):\n",
    "        imagen = Image.open(f'malimg_dataset/{family}/{image}')\n",
    "        imagen = imagen.resize((50,50))\n",
    "        df = df.append({'Family': family, 'Name': image, 'Family_cat': i ,'Image': np.array(imagen).tolist()}, ignore_index=True)\n",
    "# for family in os.listdir('malimg_dataset'):\n",
    "#     for image in os.listdir(f'malimg_dataset/{family}'):\n",
    "#         imagen = Image.open(f'malimg_dataset/{family}/{image}')\n",
    "#         imagen = imagen.resize((50,50))\n",
    "#         #make the array of the image with 50x50 without numpy\n",
    "#         #df = df.append({'Family': family, 'Name': image, 'Image': imagen}, ignore_index=True)\n",
    "#         df = df.append({'Family': family, 'Name': image, 'Image': np.array(imagen).tolist()}, ignore_index=True)\n",
    "#         #make the array of the image with 50x50\n",
    "        \n",
    "\n",
    "# muestra las primeras 5 filas del dataframe\n",
    "df.head()"
   ]
  },
  {
   "cell_type": "code",
   "execution_count": 3,
   "metadata": {},
   "outputs": [
    {
     "data": {
      "text/plain": [
       "Family\n",
       "Allaple.A         2949\n",
       "Allaple.L         1591\n",
       "Yuner.A            800\n",
       "Instantaccess      431\n",
       "VB.AT              408\n",
       "Fakerean           381\n",
       "Lolyda.AA1         213\n",
       "C2LOP.gen!g        200\n",
       "Alueron.gen!J      198\n",
       "Lolyda.AA2         184\n",
       "Dialplatform.B     177\n",
       "Dontovo.A          162\n",
       "Lolyda.AT          159\n",
       "Rbot!gen           158\n",
       "C2LOP.P            146\n",
       "Obfuscator.AD      142\n",
       "Malex.gen!J        136\n",
       "Swizzor.gen!I      132\n",
       "Swizzor.gen!E      128\n",
       "Lolyda.AA3         123\n",
       "Adialer.C          122\n",
       "Agent.FYI          116\n",
       "Autorun.K          106\n",
       "Wintrim.BX          97\n",
       "Skintrim.N          80\n",
       "dtype: int64"
      ]
     },
     "execution_count": 3,
     "metadata": {},
     "output_type": "execute_result"
    }
   ],
   "source": [
    "df.value_counts('Family')"
   ]
  },
  {
   "attachments": {},
   "cell_type": "markdown",
   "metadata": {},
   "source": [
    "En este caso como hay muy pocos datos vamos a trabajar unicamente con las familias que tienen al menos 150 observaciones."
   ]
  },
  {
   "cell_type": "code",
   "execution_count": 4,
   "metadata": {},
   "outputs": [
    {
     "data": {
      "text/plain": [
       "Family\n",
       "Allaple.A         2949\n",
       "Allaple.L         1591\n",
       "Yuner.A            800\n",
       "Instantaccess      431\n",
       "VB.AT              408\n",
       "Fakerean           381\n",
       "Lolyda.AA1         213\n",
       "C2LOP.gen!g        200\n",
       "Alueron.gen!J      198\n",
       "Lolyda.AA2         184\n",
       "Dialplatform.B     177\n",
       "Dontovo.A          162\n",
       "Lolyda.AT          159\n",
       "Rbot!gen           158\n",
       "dtype: int64"
      ]
     },
     "execution_count": 4,
     "metadata": {},
     "output_type": "execute_result"
    }
   ],
   "source": [
    "# removemos las familias con menos de 150 muestras del dataset\n",
    "df = df[df['Family'].isin(df['Family'].value_counts()[df['Family'].value_counts() > 150].index)]\n",
    "df.value_counts('Family')"
   ]
  },
  {
   "attachments": {},
   "cell_type": "markdown",
   "metadata": {},
   "source": [
    "2. Plotee las imágenes de los ejemplos de malware."
   ]
  },
  {
   "cell_type": "code",
   "execution_count": null,
   "metadata": {},
   "outputs": [],
   "source": [
    "# mostramos las imagenes de cada familia con plt.imshow\n",
    "for family in df['Family'].unique():\n",
    "    plt.figure(figsize=(10, 10))\n",
    "    plt.suptitle(family, fontsize=16)\n",
    "    for i, image in enumerate(df[df['Family'] == family]['Image'].values[:5]):\n",
    "        plt.subplot(1, 5, i+1)\n",
    "        plt.imshow(image)\n",
    "        plt.axis('off')\n",
    "    plt.show()\n"
   ]
  },
  {
   "attachments": {},
   "cell_type": "markdown",
   "metadata": {},
   "source": [
    "Utilizando Keras y Tensorflow construya una red neuronal con las capas, funciones de\n",
    "activación y el optimizador que considere conveniente."
   ]
  },
  {
   "cell_type": "code",
   "execution_count": 6,
   "metadata": {},
   "outputs": [],
   "source": [
    "from tensorflow.keras.models import Sequential\n",
    "from tensorflow.keras.layers import Dense, Conv2D, MaxPool2D, Flatten"
   ]
  },
  {
   "cell_type": "code",
   "execution_count": 27,
   "metadata": {},
   "outputs": [],
   "source": [
    "modelo_lab = Sequential()"
   ]
  },
  {
   "cell_type": "code",
   "execution_count": 28,
   "metadata": {},
   "outputs": [],
   "source": [
    "modelo_lab.add(Conv2D(filters = 32, kernel_size = (4, 4), input_shape = (50, 50, 1), activation = 'relu'))"
   ]
  },
  {
   "cell_type": "code",
   "execution_count": 29,
   "metadata": {},
   "outputs": [],
   "source": [
    "modelo_lab.add(MaxPool2D(pool_size = (2, 2)))"
   ]
  },
  {
   "cell_type": "code",
   "execution_count": 30,
   "metadata": {},
   "outputs": [],
   "source": [
    "modelo_lab.add(Flatten())"
   ]
  },
  {
   "cell_type": "code",
   "execution_count": 31,
   "metadata": {},
   "outputs": [],
   "source": [
    "modelo_lab.add(Dense(128, activation = 'relu'))"
   ]
  },
  {
   "cell_type": "code",
   "execution_count": 32,
   "metadata": {},
   "outputs": [],
   "source": [
    "modelo_lab.add(Dense(25, activation = 'softmax'))"
   ]
  },
  {
   "cell_type": "code",
   "execution_count": 33,
   "metadata": {},
   "outputs": [],
   "source": [
    "#Compilacion\n",
    "modelo_lab.compile(loss = 'categorical_crossentropy',optimizer = 'rmsprop',metrics = ['accuracy'])"
   ]
  },
  {
   "attachments": {},
   "cell_type": "markdown",
   "metadata": {},
   "source": [
    "Resumen del modelo"
   ]
  },
  {
   "cell_type": "code",
   "execution_count": 34,
   "metadata": {},
   "outputs": [
    {
     "name": "stdout",
     "output_type": "stream",
     "text": [
      "Model: \"sequential_1\"\n",
      "_________________________________________________________________\n",
      " Layer (type)                Output Shape              Param #   \n",
      "=================================================================\n",
      " conv2d_1 (Conv2D)           (None, 47, 47, 32)        544       \n",
      "                                                                 \n",
      " max_pooling2d_1 (MaxPooling  (None, 23, 23, 32)       0         \n",
      " 2D)                                                             \n",
      "                                                                 \n",
      " flatten_1 (Flatten)         (None, 16928)             0         \n",
      "                                                                 \n",
      " dense_2 (Dense)             (None, 128)               2166912   \n",
      "                                                                 \n",
      " dense_3 (Dense)             (None, 25)                3225      \n",
      "                                                                 \n",
      "=================================================================\n",
      "Total params: 2,170,681\n",
      "Trainable params: 2,170,681\n",
      "Non-trainable params: 0\n",
      "_________________________________________________________________\n"
     ]
    }
   ],
   "source": [
    "modelo_lab.summary()"
   ]
  },
  {
   "attachments": {},
   "cell_type": "markdown",
   "metadata": {},
   "source": [
    "Divida el dataset en un 70% entrenamiento y un 30% de pruebas"
   ]
  },
  {
   "cell_type": "code",
   "execution_count": 15,
   "metadata": {},
   "outputs": [
    {
     "data": {
      "text/html": [
       "<div>\n",
       "<style scoped>\n",
       "    .dataframe tbody tr th:only-of-type {\n",
       "        vertical-align: middle;\n",
       "    }\n",
       "\n",
       "    .dataframe tbody tr th {\n",
       "        vertical-align: top;\n",
       "    }\n",
       "\n",
       "    .dataframe thead th {\n",
       "        text-align: right;\n",
       "    }\n",
       "</style>\n",
       "<table border=\"1\" class=\"dataframe\">\n",
       "  <thead>\n",
       "    <tr style=\"text-align: right;\">\n",
       "      <th></th>\n",
       "      <th>Family</th>\n",
       "      <th>Image</th>\n",
       "      <th>Family_cat</th>\n",
       "      <th>Name</th>\n",
       "    </tr>\n",
       "  </thead>\n",
       "  <tbody>\n",
       "    <tr>\n",
       "      <th>238</th>\n",
       "      <td>Allaple.A</td>\n",
       "      <td>[[40, 36, 46, 42, 29, 38, 43, 36, 41, 28, 29, ...</td>\n",
       "      <td>2.0</td>\n",
       "      <td>00000d3e89aa9d228251616ae7a6ab06.png</td>\n",
       "    </tr>\n",
       "    <tr>\n",
       "      <th>239</th>\n",
       "      <td>Allaple.A</td>\n",
       "      <td>[[61, 47, 65, 52, 53, 46, 37, 28, 33, 40, 41, ...</td>\n",
       "      <td>2.0</td>\n",
       "      <td>000012cb3104b542b482df95cd31cec2.png</td>\n",
       "    </tr>\n",
       "    <tr>\n",
       "      <th>240</th>\n",
       "      <td>Allaple.A</td>\n",
       "      <td>[[67, 56, 63, 52, 39, 47, 66, 52, 39, 63, 69, ...</td>\n",
       "      <td>2.0</td>\n",
       "      <td>00005470c58e40d3255c064f9db60b71.png</td>\n",
       "    </tr>\n",
       "    <tr>\n",
       "      <th>241</th>\n",
       "      <td>Allaple.A</td>\n",
       "      <td>[[56, 45, 48, 41, 34, 34, 45, 22, 27, 34, 36, ...</td>\n",
       "      <td>2.0</td>\n",
       "      <td>00008667e5373ee6fea920c3b29cc892.png</td>\n",
       "    </tr>\n",
       "    <tr>\n",
       "      <th>242</th>\n",
       "      <td>Allaple.A</td>\n",
       "      <td>[[42, 41, 50, 34, 37, 42, 54, 34, 32, 31, 34, ...</td>\n",
       "      <td>2.0</td>\n",
       "      <td>00009213feb3dc7b23821d749bb8c940.png</td>\n",
       "    </tr>\n",
       "  </tbody>\n",
       "</table>\n",
       "</div>"
      ],
      "text/plain": [
       "        Family                                              Image  Family_cat  \\\n",
       "238  Allaple.A  [[40, 36, 46, 42, 29, 38, 43, 36, 41, 28, 29, ...         2.0   \n",
       "239  Allaple.A  [[61, 47, 65, 52, 53, 46, 37, 28, 33, 40, 41, ...         2.0   \n",
       "240  Allaple.A  [[67, 56, 63, 52, 39, 47, 66, 52, 39, 63, 69, ...         2.0   \n",
       "241  Allaple.A  [[56, 45, 48, 41, 34, 34, 45, 22, 27, 34, 36, ...         2.0   \n",
       "242  Allaple.A  [[42, 41, 50, 34, 37, 42, 54, 34, 32, 31, 34, ...         2.0   \n",
       "\n",
       "                                     Name  \n",
       "238  00000d3e89aa9d228251616ae7a6ab06.png  \n",
       "239  000012cb3104b542b482df95cd31cec2.png  \n",
       "240  00005470c58e40d3255c064f9db60b71.png  \n",
       "241  00008667e5373ee6fea920c3b29cc892.png  \n",
       "242  00009213feb3dc7b23821d749bb8c940.png  "
      ]
     },
     "execution_count": 15,
     "metadata": {},
     "output_type": "execute_result"
    }
   ],
   "source": [
    "df.head()"
   ]
  },
  {
   "cell_type": "code",
   "execution_count": 16,
   "metadata": {},
   "outputs": [
    {
     "data": {
      "text/plain": [
       "array([[[ 78,  54,  61, ...,  52,  69,  65],\n",
       "        [115, 139, 118, ..., 141, 142, 121],\n",
       "        [119, 113, 128, ..., 123, 106, 113],\n",
       "        ...,\n",
       "        [125, 127, 120, ..., 125, 117, 113],\n",
       "        [120, 127, 120, ..., 129, 131, 132],\n",
       "        [113, 109, 108, ..., 100, 105, 103]],\n",
       "\n",
       "       [[ 60,  59,  67, ...,  44,  54,  57],\n",
       "        [116, 141, 144, ..., 114, 115, 121],\n",
       "        [135, 120, 127, ..., 121,  97, 113],\n",
       "        ...,\n",
       "        [118, 127, 140, ..., 107, 113, 135],\n",
       "        [135, 114, 123, ..., 137, 124, 122],\n",
       "        [122, 134, 141, ..., 120, 127, 132]],\n",
       "\n",
       "       [[106,  87,  86, ..., 100,  93, 105],\n",
       "        [128, 107, 119, ..., 124, 118, 119],\n",
       "        [120, 105, 122, ..., 120,  89,  96],\n",
       "        ...,\n",
       "        [ 88,  69,  69, ...,  58,  91,  73],\n",
       "        [ 74,  66,  62, ...,  66,  60,  40],\n",
       "        [ 26,  41,  44, ...,  40,  31,  31]],\n",
       "\n",
       "       ...,\n",
       "\n",
       "       [[ 70,  55,  69, ...,  54,  79,  67],\n",
       "        [127, 124, 128, ..., 110, 125, 148],\n",
       "        [134,  98, 125, ..., 122, 116, 120],\n",
       "        ...,\n",
       "        [115, 126, 125, ..., 131, 141, 126],\n",
       "        [126, 125, 128, ..., 120, 131, 116],\n",
       "        [128, 145, 141, ..., 136, 135, 144]],\n",
       "\n",
       "       [[ 92,  96,  98, ..., 101, 104,  97],\n",
       "        [105, 101,  99, ..., 111, 101,  96],\n",
       "        [103,  92, 107, ..., 111,  96,  92],\n",
       "        ...,\n",
       "        [151, 117, 128, ..., 171, 163, 130],\n",
       "        [ 68,  62,  53, ...,  58,  55,  60],\n",
       "        [121, 115, 120, ..., 114, 112, 116]],\n",
       "\n",
       "       [[ 92,  96,  98, ..., 101, 104,  97],\n",
       "        [105, 101,  99, ..., 111, 101,  96],\n",
       "        [103,  92, 107, ..., 111,  96,  92],\n",
       "        ...,\n",
       "        [151, 117, 128, ..., 171, 163, 130],\n",
       "        [ 68,  62,  53, ...,  58,  55,  60],\n",
       "        [121, 115, 120, ..., 114, 112, 116]]])"
      ]
     },
     "execution_count": 16,
     "metadata": {},
     "output_type": "execute_result"
    }
   ],
   "source": [
    "#Dividir el dataset\n",
    "from sklearn.model_selection import train_test_split\n",
    "X = df['Image'].values\n",
    "y = df['Family_cat'].values\n",
    "#convert X to numpy array and inside with simple list\n",
    "X = np.array([np.array(xi) for xi in X])\n",
    "\n",
    "X_train, X_test, y_train, y_test = train_test_split(X, y, test_size=0.2, random_state=42)\n",
    "\n",
    "#Normalizar los datos\n",
    "X_train\n"
   ]
  },
  {
   "cell_type": "code",
   "execution_count": 17,
   "metadata": {},
   "outputs": [],
   "source": [
    "#Normalizar los datos\n",
    "X_train = X_train/255\n",
    "X_test = X_test/255\n"
   ]
  },
  {
   "cell_type": "code",
   "execution_count": 18,
   "metadata": {},
   "outputs": [
    {
     "data": {
      "text/plain": [
       "0.6705882352941176"
      ]
     },
     "execution_count": 18,
     "metadata": {},
     "output_type": "execute_result"
    },
    {
     "data": {
      "image/png": "[encoded data removed]",
      "text/plain": [
       "<Figure size 432x288 with 1 Axes>"
      ]
     },
     "metadata": {
      "needs_background": "light"
     },
     "output_type": "display_data"
    }
   ],
   "source": [
    "#Mostrar una imagen\n",
    "plt.imshow(X_train[0])\n",
    "#mostrar la normalizacion\n",
    "X_train[0].max()\n"
   ]
  },
  {
   "cell_type": "code",
   "execution_count": 19,
   "metadata": {},
   "outputs": [
    {
     "name": "stdout",
     "output_type": "stream",
     "text": [
      "(6408, 50, 50) (1603, 50, 50)\n"
     ]
    }
   ],
   "source": [
    "print(X_train.shape, X_test.shape)"
   ]
  },
  {
   "cell_type": "code",
   "execution_count": 20,
   "metadata": {},
   "outputs": [],
   "source": [
    "#Agregar una dimension a los datos \n",
    "X_train = X_train.reshape(6408, 50, 50, 1)\n",
    "X_test = X_test.reshape(1603, 50, 50, 1)"
   ]
  },
  {
   "cell_type": "code",
   "execution_count": 21,
   "metadata": {},
   "outputs": [],
   "source": [
    "from tensorflow.keras.utils import to_categorical"
   ]
  },
  {
   "cell_type": "code",
   "execution_count": 22,
   "metadata": {},
   "outputs": [
    {
     "name": "stdout",
     "output_type": "stream",
     "text": [
      "(6408,) (1603,)\n"
     ]
    }
   ],
   "source": [
    "print(y_train.shape, y_test.shape)"
   ]
  },
  {
   "cell_type": "code",
   "execution_count": 23,
   "metadata": {},
   "outputs": [],
   "source": [
    "categorical_y_entrenamiento = to_categorical(y_train, 25)\n",
    "categorical_y_test = to_categorical(y_test, 25)"
   ]
  },
  {
   "cell_type": "code",
   "execution_count": 24,
   "metadata": {},
   "outputs": [
    {
     "name": "stdout",
     "output_type": "stream",
     "text": [
      "(6408, 25) (1603, 25)\n"
     ]
    }
   ],
   "source": [
    "print(categorical_y_entrenamiento.shape, categorical_y_test.shape)"
   ]
  },
  {
   "attachments": {},
   "cell_type": "markdown",
   "metadata": {},
   "source": [
    "Entrenamiento del modelo"
   ]
  },
  {
   "cell_type": "code",
   "execution_count": 25,
   "metadata": {},
   "outputs": [],
   "source": [
    "from tensorflow.keras.callbacks import EarlyStopping"
   ]
  },
  {
   "cell_type": "code",
   "execution_count": 35,
   "metadata": {},
   "outputs": [
    {
     "name": "stdout",
     "output_type": "stream",
     "text": [
      "Epoch 1/15\n",
      "201/201 [==============================] - 16s 71ms/step - loss: 0.5881 - accuracy: 0.8241 - val_loss: 0.1438 - val_accuracy: 0.9676\n",
      "Epoch 2/15\n",
      "201/201 [==============================] - 13s 63ms/step - loss: 0.0671 - accuracy: 0.9849 - val_loss: 0.0296 - val_accuracy: 0.9944\n",
      "Epoch 3/15\n",
      "201/201 [==============================] - 14s 69ms/step - loss: 0.0297 - accuracy: 0.9931 - val_loss: 0.0199 - val_accuracy: 0.9969\n",
      "Epoch 4/15\n",
      "201/201 [==============================] - 14s 68ms/step - loss: 0.0161 - accuracy: 0.9964 - val_loss: 0.0142 - val_accuracy: 0.9975\n",
      "Epoch 5/15\n",
      "201/201 [==============================] - 13s 63ms/step - loss: 0.0097 - accuracy: 0.9981 - val_loss: 0.0156 - val_accuracy: 0.9975\n",
      "Epoch 6/15\n",
      "201/201 [==============================] - 11s 57ms/step - loss: 0.0098 - accuracy: 0.9967 - val_loss: 0.0357 - val_accuracy: 0.9913\n"
     ]
    },
    {
     "data": {
      "text/plain": [
       "<keras.callbacks.History at 0x241698f8e80>"
      ]
     },
     "execution_count": 35,
     "metadata": {},
     "output_type": "execute_result"
    }
   ],
   "source": [
    "modelo_lab.fit(X_train, categorical_y_entrenamiento, epochs = 15, validation_data = (X_test,categorical_y_test),callbacks = [EarlyStopping(monitor = 'val_loss', patience = 2)])"
   ]
  },
  {
   "attachments": {},
   "cell_type": "markdown",
   "metadata": {},
   "source": [
    "Metricas del modelo"
   ]
  },
  {
   "attachments": {},
   "cell_type": "markdown",
   "metadata": {},
   "source": [
    "Evalúe el modelo con el dataset de pruebas y muestre las métricas obtenidas. Discuta los\n",
    "resultados obtenidos."
   ]
  },
  {
   "cell_type": "code",
   "execution_count": null,
   "metadata": {},
   "outputs": [],
   "source": []
  }
 ],
 "metadata": {
  "kernelspec": {
   "display_name": "venv",
   "language": "python",
   "name": "python3"
  },
  "language_info": {
   "codemirror_mode": {
    "name": "ipython",
    "version": 3
   },
   "file_extension": ".py",
   "mimetype": "text/x-python",
   "name": "python",
   "nbconvert_exporter": "python",
   "pygments_lexer": "ipython3",
   "version": "3.8.0"
  },
  "orig_nbformat": 4
 },
 "nbformat": 4,
 "nbformat_minor": 2
}
